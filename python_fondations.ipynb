{
  "cells": [
    {
      "cell_type": "markdown",
      "metadata": {
        "id": "ET70hxGpJSc5"
      },
      "source": [
        "Voici la traduction en français, formatée en Markdown :\n",
        "# Python : fondations\n",
        "\n",
        "Python est un langage de programmation polyvalent de haut niveau. Il est facile à lire, à comprendre et à apprendre.\n",
        "\n",
        "Vous pouvez exécuter du code Python de différentes manières :\n",
        "   Méthode                | Description                                                                 |\n",
        " |------------------------|-----------------------------------------------------------------------------|\n",
        " | Interpréteur Python    | Exécution ligne par ligne dans un terminal (comme une calculatrice avancée) |\n",
        " | Interpréteur IPython   | **I**nterpréteur Python interactif (avec coloration syntaxique, etc.)       |\n",
        " | Script                 | Exécution de tout votre code dans un fichier texte                          |\n",
        " | Notebook Jupyter       | Environnement web interactif combinant texte, code et graphiques           |\n",
        "\n",
        "Nous utiliserons les **notebooks Jupyter** dans ce cours."
      ]
    },
    {
      "cell_type": "markdown",
      "metadata": {
        "id": "CjqDhuCgJSc6"
      },
      "source": [
        "## Jupyter\n",
        "\n",
        "Dans Jupyter, une cellule peut être soit de type **\"code\"**, soit de type **\"markdown\"**.\n",
        "Pour rédiger du texte en markdown, consultez ce [guide pratique](https://www.markdownguide.org/cheat-sheet/).\n",
        "\n",
        "Vous allez souvent naviguer entre les cellules dans Jupyter, il est donc utile de connaître quelques **raccourcis clavier** :\n",
        "| Raccourci              | Action                                                                 |\n",
        "|------------------------|------------------------------------------------------------------------|\n",
        "| **Ctrl + Entrée**      | Exécuter la cellule                                                    |\n",
        "| **Maj + Entrée**       | Exécuter la cellule et passer à la suivante                           |\n",
        "\n",
        "Pour quitter le **mode édition** (et passer en **mode commande**), appuyez sur **Échap**. Vous pouvez alors utiliser :\n",
        "| Touche      | Action                                      |\n",
        "|-------------|---------------------------------------------|\n",
        "| **a**       | Insérer une cellule au-dessus               |\n",
        "| **b**       | Insérer une cellule en dessous              |\n",
        "| **m**       | Transformer la cellule en markdown          |\n",
        "| **y**       | Transformer la cellule en code              |\n",
        "| **d + d**   | Supprimer la cellule                        |\n"
      ]
    },
    {
      "cell_type": "markdown",
      "metadata": {
        "id": "ul08YpvmJSc7"
      },
      "source": [
        "### Complétion de code et aide\n",
        "\n",
        "Dans **Jupyter Lab**, vous pouvez bénéficier de la **complétion automatique** du code Python en appuyant sur **Tab**.\n",
        "\n",
        "Si votre curseur est placé sur une fonction, vous pouvez afficher sa **signature** (documentation) en appuyant sur **Maj + Tab**.\n"
      ]
    },
    {
      "cell_type": "markdown",
      "metadata": {},
      "source": [
        "# Obtenir de l'aide\n",
        "\n",
        "Vous pouvez obtenir de l'aide sur une **fonction** ou une **variable** en ajoutant un **?** avant ou après son nom.\n",
        "\n",
        "Exemple :\n",
        "```python\n",
        "?pwd\n",
        "# ou\n",
        "pwd?\n"
      ]
    },
    {
      "cell_type": "code",
      "execution_count": null,
      "metadata": {
        "id": "bWApeRZhJSc7",
        "outputId": "423bd053-2522-4f6e-8d96-a18f5c90e81d"
      },
      "outputs": [],
      "source": [
        "pwd?"
      ]
    },
    {
      "cell_type": "markdown",
      "metadata": {
        "id": "XPMYtdhtJSc8"
      },
      "source": [
        "### Répertoire de travail actuel\n",
        "\n",
        "Lors de la lecture (ou de l'écriture) de fichiers depuis le système local, il est essentiel de connaître votre **chemin actuel**.\n",
        "Vous pouvez afficher ce chemin avec la commande :\n",
        "```python\n",
        "pwd\n"
      ]
    },
    {
      "cell_type": "code",
      "execution_count": null,
      "metadata": {
        "id": "eJzcY4JYJSc9",
        "outputId": "7284b614-4d73-4d5c-b68f-d16d4899e82a"
      },
      "outputs": [],
      "source": [
        "pwd"
      ]
    },
    {
      "cell_type": "markdown",
      "metadata": {
        "id": "E8SVcgqSJSc9"
      },
      "source": [
        "### Conseils pour les chemins de fichiers\n",
        "\n",
        "Pour ce cours, nous vous recommandons de **lancer Jupyter depuis le dossier \"mini_book\"**.\n",
        "Cela permettra aux **chemins relatifs** vers les fichiers de données de fonctionner correctement.\n"
      ]
    },
    {
      "cell_type": "markdown",
      "metadata": {
        "id": "wQMvwmdlJSc-"
      },
      "source": [
        "### Chemins sous Windows\n",
        "\n",
        "Sous Windows, le **backslash** (\\) est utilisé pour séparer les dossiers. Cependant, en Python, le backslash est un **caractère d'échappement**. Voici comment écrire les chemins Windows en Python :\n",
        "\n",
        "| Méthode                          | Exemple                     |\n",
        "|----------------------------------|-----------------------------|\n",
        "| Chaîne brute (prefixe `r`)       | `r\"dossier\\fichier.ext\"`    |\n",
        "| Utiliser le slash `/` (recommandé) | `\"dossier/fichier.ext\"`    |\n",
        "| Double backslash                 | `\"dossier\\\\\\\\fichier.ext\"`  |\n",
        "\n",
        "**Recommandation** : Privilégiez l'utilisation du **slash `/`**, car il fonctionne aussi sous Linux et est plus lisible.\n"
      ]
    },
    {
      "cell_type": "markdown",
      "metadata": {
        "id": "AwEsh_mkJSc-"
      },
      "source": [
        "## Variable"
      ]
    },
    {
      "cell_type": "code",
      "execution_count": null,
      "metadata": {
        "id": "crgm0VbtJSc_",
        "outputId": "1e25833b-b74a-450f-b3c8-483538646c06"
      },
      "outputs": [],
      "source": [
        "var1 = 2.2\n",
        "var1"
      ]
    },
    {
      "cell_type": "code",
      "execution_count": null,
      "metadata": {
        "id": "-ELAeMBbJSc_"
      },
      "outputs": [],
      "source": [
        "var2 = var1"
      ]
    },
    {
      "cell_type": "code",
      "execution_count": null,
      "metadata": {
        "id": "yXdJeYZIJSdA",
        "outputId": "5a87b142-1942-4b7e-8ad4-fc6aba5bd74c"
      },
      "outputs": [],
      "source": [
        "var2 = \"3.3\"    # type modifié\n",
        "var2"
      ]
    },
    {
      "cell_type": "code",
      "execution_count": null,
      "metadata": {
        "id": "-0NBV_7EJSdA",
        "outputId": "398d4616-1e67-4ea0-8f97-ccefd61c9a60"
      },
      "outputs": [],
      "source": [
        "var1    # var1 reste inchangé, même lorsque nous modifions var2 (type numérique)"
      ]
    },
    {
      "cell_type": "code",
      "execution_count": null,
      "metadata": {
        "id": "8xNV1ydqJSdB",
        "outputId": "3cecd04e-3c56-47a6-98e4-9baa30b2b46b"
      },
      "outputs": [],
      "source": [
        "type(var1)"
      ]
    },
    {
      "cell_type": "markdown",
      "metadata": {
        "id": "eJRWVh4XJSdB"
      },
      "source": [
        "## Liste"
      ]
    },
    {
      "cell_type": "code",
      "execution_count": null,
      "metadata": {
        "id": "PLBGtSNwJSdC",
        "outputId": "dd08a77c-bbdd-45fe-9405-ec2fe0836ec8"
      },
      "outputs": [],
      "source": [
        "# Une liste est créée avec [.., ..]\n",
        "myvals = [1.0, 2.0, 1.5]\n",
        "myvals"
      ]
    },
    {
      "cell_type": "code",
      "execution_count": null,
      "metadata": {
        "id": "1H-EE-IdJSdC",
        "outputId": "3281757c-c466-4ff4-81d6-fea3688d614a"
      },
      "outputs": [],
      "source": [
        "myvals[0]"
      ]
    },
    {
      "cell_type": "code",
      "execution_count": null,
      "metadata": {
        "id": "iAegKMGKJSdC"
      },
      "outputs": [],
      "source": [
        "myvals2 = myvals    # ceci n'est *pas* une copie !"
      ]
    },
    {
      "cell_type": "code",
      "execution_count": null,
      "metadata": {
        "id": "q51--sl0JSdD"
      },
      "outputs": [],
      "source": [
        "myvals2[1] = 3.3"
      ]
    },
    {
      "cell_type": "code",
      "execution_count": null,
      "metadata": {
        "id": "pJIYXLaeJSdD",
        "outputId": "e94f7949-666c-49ab-be26-4dc2d548ce8d"
      },
      "outputs": [],
      "source": [
        "myvals  # myvals a aussi changé ! (myvals et myvals2 référencent le même objet)\n"
      ]
    },
    {
      "cell_type": "code",
      "execution_count": null,
      "metadata": {
        "id": "PohlOmgqJSdD",
        "outputId": "3159eb07-db55-481d-9bec-758f08b702a7"
      },
      "outputs": [],
      "source": [
        "id(myvals) == id(myvals2)"
      ]
    },
    {
      "cell_type": "code",
      "execution_count": null,
      "metadata": {
        "id": "n7TzC2P7JSdD"
      },
      "outputs": [],
      "source": [
        "# les listes peuvent contenir tous types de variables différentes\n",
        "stuff = [5, 3.0, \"MIKE ZERO\", b'a', [1,2]]"
      ]
    },
    {
      "cell_type": "code",
      "execution_count": null,
      "metadata": {
        "id": "_RJmmog9JSdE",
        "outputId": "f19d2ea9-adfe-469a-dfc1-83bd128d6530"
      },
      "outputs": [],
      "source": [
        "type(stuff[0])"
      ]
    },
    {
      "cell_type": "markdown",
      "metadata": {
        "id": "KZ04gu_SJSdE"
      },
      "source": [
        "## Tuple\n",
        "\n",
        "Les **tuples** ressemblent aux listes, mais sont **immuables** (une fois créés, ils ne peuvent pas être modifiés).\n"
      ]
    },
    {
      "cell_type": "code",
      "execution_count": null,
      "metadata": {
        "id": "D7yuUrs3JSdE",
        "outputId": "a2e4aaef-7565-47de-f20c-6f16ef16918b"
      },
      "outputs": [],
      "source": [
        "my_tuple = (34, 0.2, \"txt\")\n",
        "my_tuple"
      ]
    },
    {
      "cell_type": "code",
      "execution_count": null,
      "metadata": {
        "id": "d5XqfFCCJSdE",
        "outputId": "87f3d117-c5fc-4681-9101-3ac1f32d5cb0"
      },
      "outputs": [],
      "source": [
        "my_tuple[2]"
      ]
    },
    {
      "cell_type": "code",
      "execution_count": null,
      "metadata": {
        "id": "7v3tUjnTJSdE"
      },
      "outputs": [],
      "source": [
        "my_tuple[2] = 'new_txt'   # l'exécution de cette ligne échouera"
      ]
    },
    {
      "cell_type": "markdown",
      "metadata": {
        "id": "Px62B2fPJSdE"
      },
      "source": [
        "## Dictionnaire"
      ]
    },
    {
      "cell_type": "code",
      "execution_count": null,
      "metadata": {
        "id": "I17pYSxLJSdF",
        "outputId": "91578cfd-6767-4b4e-c8ca-ece501858681"
      },
      "outputs": [],
      "source": [
        "fruits = {'banana':4, 'apple':7}\n",
        "fruits"
      ]
    },
    {
      "cell_type": "code",
      "execution_count": null,
      "metadata": {
        "id": "VrrWUAUuJSdF",
        "outputId": "d5769f6d-69cd-4962-ab15-24a11fef05a3"
      },
      "outputs": [],
      "source": [
        "fruits['orange'] = 9\n",
        "fruits"
      ]
    },
    {
      "cell_type": "code",
      "execution_count": null,
      "metadata": {
        "id": "EhLY3U4OJSdF",
        "outputId": "4750ddc5-04af-47d0-a3a9-35121c51e2ea"
      },
      "outputs": [],
      "source": [
        "fruits.keys()"
      ]
    },
    {
      "cell_type": "code",
      "execution_count": null,
      "metadata": {
        "id": "WjCAFoq1JSdF",
        "outputId": "3b6071fa-7096-4b17-beec-7d5fb011c637"
      },
      "outputs": [],
      "source": [
        "fruits['banana']"
      ]
    },
    {
      "cell_type": "code",
      "execution_count": null,
      "metadata": {
        "id": "Jnl1aQOSJSdF",
        "outputId": "91045d6a-aa97-4054-f7ca-294bdb52c1aa"
      },
      "outputs": [],
      "source": [
        "fruits.values()"
      ]
    },
    {
      "cell_type": "code",
      "execution_count": null,
      "metadata": {
        "id": "Mhxp3WafJSdG",
        "outputId": "0858bc13-9a40-478f-b86e-9a717fa5787b"
      },
      "outputs": [],
      "source": [
        "fruits.items()"
      ]
    },
    {
      "cell_type": "markdown",
      "metadata": {
        "id": "DWfIfYWSJSdG"
      },
      "source": [
        "## Structures de contrôle\n",
        "\n",
        "**Attention aux deux-points (`:`) et à l'indentation !**\n",
        "\n",
        "| Sujet                     | Lien utile                                                                 |\n",
        "|---------------------------|----------------------------------------------------------------------------|\n",
        "| Conditions en Python      | [Documentation sur les conditions](https://www.w3schools.com/python/python_conditions.asp) |\n",
        "| Boucles `for` en Python   | [Documentation sur les boucles `for`](https://www.w3schools.com/python/python_for_loops.asp) |\n"
      ]
    },
    {
      "cell_type": "code",
      "execution_count": null,
      "metadata": {
        "id": "19pz8TlwJSdG",
        "outputId": "90747a02-f083-4edb-e133-fc8196c00637"
      },
      "outputs": [],
      "source": [
        "i_am = 'ok'\n",
        "if i_am == 'ok':\n",
        "    print('You are ok')\n",
        "elif i_am == 'great':\n",
        "    print('You are great')\n",
        "else:\n",
        "    print(\"I don't know how you are!\")"
      ]
    },
    {
      "cell_type": "code",
      "execution_count": null,
      "metadata": {
        "id": "UplqaSCnJSdH",
        "outputId": "f2ab0210-75cb-409c-f5de-043dc8f612f9"
      },
      "outputs": [],
      "source": [
        "for j in range(3):\n",
        "    print(j)"
      ]
    },
    {
      "cell_type": "code",
      "execution_count": null,
      "metadata": {
        "id": "hXop90bgJSdH",
        "outputId": "97ceb852-751f-420e-b6a6-93b3d8f03aee"
      },
      "outputs": [],
      "source": [
        "names = ['Carl','Chan','Clarice']\n",
        "for name in names:\n",
        "    print(f'Hi {name}!')"
      ]
    },
    {
      "cell_type": "markdown",
      "metadata": {
        "id": "dybwrmS9JSdH"
      },
      "source": [
        "Une boucle peut également s'exprimer avec une syntaxe particulière appelée **liste en compréhension**."
      ]
    },
    {
      "cell_type": "code",
      "execution_count": null,
      "metadata": {
        "id": "tyAJU812JSdH",
        "outputId": "2bdc9e7a-1f18-4ec4-b8c3-fdd2ee66ac6f"
      },
      "outputs": [],
      "source": [
        "lnames = [name.lower() for name in names]\n",
        "lnames"
      ]
    },
    {
      "cell_type": "markdown",
      "metadata": {
        "id": "CTG5U_6zJSdI"
      },
      "source": [
        "## Fonctions\n",
        "\n",
        "Il est très utile de **créer vos propres fonctions** pour regrouper du code lié dans une fonction réutilisable. Cela évite de copier-coller le même bloc de code à plusieurs endroits dans votre programme."
      ]
    },
    {
      "cell_type": "code",
      "execution_count": null,
      "metadata": {
        "id": "GfAdL9IbJSdI"
      },
      "outputs": [],
      "source": [
        "import re\n",
        "\n",
        "def clean_name(name):\n",
        "    \"Clean and short name\"\n",
        "    clean = re.sub('[^A-Za-z0-9]+', '', name)\n",
        "    short = clean[:15]\n",
        "    lower = short.lower()\n",
        "    return lower"
      ]
    },
    {
      "cell_type": "code",
      "execution_count": null,
      "metadata": {
        "id": "QFtwhCDxJSdI",
        "outputId": "b4a9fe72-627f-411e-915c-179ca4dbb696"
      },
      "outputs": [],
      "source": [
        "clean_name(\"#What a lousy & long name\")"
      ]
    },
    {
      "cell_type": "code",
      "execution_count": null,
      "metadata": {
        "id": "lZ5yyEcdJSdI",
        "outputId": "94263f38-0baf-400d-b914-de6a8c6bd9bb"
      },
      "outputs": [],
      "source": [
        "clean_name(\"goodname\")"
      ]
    },
    {
      "cell_type": "code",
      "execution_count": null,
      "metadata": {
        "id": "RXk_a7m6JSdJ"
      },
      "outputs": [],
      "source": [
        "long_and_ugly_names = [\"Wave Height # Modelled\", \"Wave Period # Modelled\", \"Wave Direction # Modelled\"]"
      ]
    },
    {
      "cell_type": "markdown",
      "metadata": {
        "id": "52tbRiiMJSdJ"
      },
      "source": [
        "Combinez une liste en compréhension avec votre propre fonction"
      ]
    },
    {
      "cell_type": "code",
      "execution_count": null,
      "metadata": {
        "id": "hzUFqZHWJSdJ",
        "outputId": "6326a7f8-169e-42dd-9980-29cb738aaf9d"
      },
      "outputs": [],
      "source": [
        "[clean_name(x) for x in long_and_ugly_names]"
      ]
    },
    {
      "cell_type": "code",
      "execution_count": null,
      "metadata": {
        "id": "ec0NeyLgJSdJ"
      },
      "outputs": [],
      "source": []
    }
  ],
  "metadata": {
    "colab": {
      "provenance": []
    },
    "kernelspec": {
      "display_name": "monnotebook (3.13.2)",
      "language": "python",
      "name": "python3"
    },
    "language_info": {
      "codemirror_mode": {
        "name": "ipython",
        "version": 3
      },
      "file_extension": ".py",
      "mimetype": "text/x-python",
      "name": "python",
      "nbconvert_exporter": "python",
      "pygments_lexer": "ipython3",
      "version": "3.13.2"
    }
  },
  "nbformat": 4,
  "nbformat_minor": 0
}
