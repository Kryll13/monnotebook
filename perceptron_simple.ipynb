{
 "cells": [
  {
   "cell_type": "code",
   "execution_count": null,
   "id": "5d236d53",
   "metadata": {},
   "outputs": [],
   "source": [
    "import numpy as np\n",
    "import matplotlib.pyplot as plt\n",
    "from sklearn.datasets import load_iris\n",
    "from sklearn.datasets import make_blobs\n",
    "from sklearn.metrics import accuracy_score"
   ]
  },
  {
   "cell_type": "code",
   "execution_count": null,
   "id": "fca02993",
   "metadata": {},
   "outputs": [],
   "source": [
    "# Générer des données synthétiques pour l'entraînement\n",
    "X, y = make_blobs(n_samples=100, n_features=2, centers=2, random_state=0)\n",
    "y = y.reshape((y.shape[0], 1))\n",
    "\n",
    "# Créer une première figure\n",
    "plt.figure(figsize=(15, 5))\n",
    "\n",
    "# --- Graphique 1 : Données avant entraînement ---\n",
    "plt.subplot(1, 3, 1)\n",
    "plt.scatter(X[:, 0], X[:, 1], c=y, cmap='summer')\n",
    "plt.title('Données avant entraînement')\n",
    "plt.xlabel('Caractéristique 1')\n",
    "plt.ylabel('Caractéristique 2')"
   ]
  },
  {
   "cell_type": "code",
   "execution_count": null,
   "id": "b5421a2b",
   "metadata": {},
   "outputs": [],
   "source": [
    "def initialisation(X):\n",
    "    W = np.random.randn(X.shape[1], 1)\n",
    "    b = np.random.randn(1)\n",
    "    return W, b"
   ]
  },
  {
   "cell_type": "code",
   "execution_count": null,
   "id": "4b180a4c",
   "metadata": {},
   "outputs": [],
   "source": [
    "def model(X, W, b):\n",
    "    Z = X.dot(W) + b\n",
    "    A = 1 / (1 + np.exp(-Z))\n",
    "    return A"
   ]
  },
  {
   "cell_type": "code",
   "execution_count": null,
   "id": "21b55aa2",
   "metadata": {},
   "outputs": [],
   "source": [
    "def log_loss(A, y):\n",
    "    return 1 / len(y) * np.sum(-y * np.log(A) - (1 - y) * np.log(1 - A))"
   ]
  },
  {
   "cell_type": "code",
   "execution_count": null,
   "id": "d1f62d77",
   "metadata": {},
   "outputs": [],
   "source": [
    "def gradients(A, X, y):\n",
    "    dW = 1 / len(y) * np.dot(X.T, A - y)\n",
    "    db = 1 / len(y) * np.sum(A - y)\n",
    "    return dW, db"
   ]
  },
  {
   "cell_type": "code",
   "execution_count": null,
   "id": "6be9815d",
   "metadata": {},
   "outputs": [],
   "source": [
    "def update(dW, db, W, b, learning_rate):\n",
    "    W = W - learning_rate * dW\n",
    "    b = b - learning_rate * db\n",
    "    return W, b"
   ]
  },
  {
   "cell_type": "code",
   "execution_count": null,
   "id": "c49c2a32",
   "metadata": {},
   "outputs": [],
   "source": [
    "def predict(X, W, b):\n",
    "    A = model(X, W, b)\n",
    "    return A >= 0.5"
   ]
  },
  {
   "cell_type": "code",
   "execution_count": null,
   "id": "87b3aa6f",
   "metadata": {},
   "outputs": [],
   "source": [
    "def artificial_neuron(X, y, learning_rate=0.1, n_iter=100):\n",
    "    W, b = initialisation(X)\n",
    "    Loss = []\n",
    "\n",
    "    for i in range(n_iter):\n",
    "        A = model(X, W, b)\n",
    "        Loss.append(log_loss(A, y))\n",
    "        dW, db = gradients(A, X, y)\n",
    "        W, b = update(dW, db, W, b, learning_rate)\n",
    "\n",
    "    y_pred = predict(X, W, b)\n",
    "    accuracy = accuracy_score(y, y_pred)\n",
    "\n",
    "    return W, b, accuracy, Loss"
   ]
  },
  {
   "cell_type": "code",
   "execution_count": null,
   "id": "9133fcf8",
   "metadata": {},
   "outputs": [],
   "source": [
    "# Entraîner le modèle\n",
    "W, b, accuracy, Loss = artificial_neuron(X, y)\n",
    "\n",
    "plt.figure(figsize=(15, 5))\n",
    "\n",
    "# --- Graphique 2 : Courbe d'apprentissage ---\n",
    "plt.subplot(1, 2, 1)\n",
    "plt.plot(Loss)\n",
    "plt.title('Courbe d\\'apprentissage')\n",
    "plt.xlabel('Itérations')\n",
    "plt.ylabel('Perte Logarithmique')\n",
    "\n",
    "# --- Graphique 3 : Frontière de décision après entraînement ---\n",
    "plt.subplot(1, 2, 2)\n",
    "plt.scatter(X[:, 0], X[:, 1], c=y, cmap='summer')\n",
    "\n",
    "# Tracer la frontière de décision (où W0*x0 + W1*x1 + b = 0)\n",
    "x1_vals = np.linspace(X[:, 0].min(), X[:, 0].max(), 100)\n",
    "x2_vals = (-W[0] * x1_vals - b) / W[1]\n",
    "plt.plot(x1_vals, x2_vals, c='red', linewidth=1)\n",
    "\n",
    "plt.title('Frontière de décision après entraînement')\n",
    "plt.xlabel('Caractéristique 1')\n",
    "plt.ylabel('Caractéristique 2')\n",
    "\n",
    "# Afficher la précision dans le titre\n",
    "plt.suptitle(f'Résultats du Perceptron (Précision: {accuracy:.2%})', y=1.05)\n",
    "\n",
    "plt.show()"
   ]
  }
 ],
 "metadata": {
  "kernelspec": {
   "display_name": "monnotebook (3.13.2)",
   "language": "python",
   "name": "python3"
  },
  "language_info": {
   "codemirror_mode": {
    "name": "ipython",
    "version": 3
   },
   "file_extension": ".py",
   "mimetype": "text/x-python",
   "name": "python",
   "nbconvert_exporter": "python",
   "pygments_lexer": "ipython3",
   "version": "3.13.2"
  }
 },
 "nbformat": 4,
 "nbformat_minor": 5
}
