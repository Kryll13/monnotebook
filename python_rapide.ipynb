{
  "cells": [
    {
      "cell_type": "markdown",
      "metadata": {
        "id": "sI1swyS_H3Pw",
        "nbpages": {
          "level": 2,
          "link": "[1.2.2 Python Basics](https://jckantor.github.io/CBE30338/01.02-Python-Basics.html#1.2.2-Python-Basics)",
          "section": "1.2.2 Python Basics"
        }
      },
      "source": [
        "## Python : Rapide"
      ]
    },
    {
      "cell_type": "markdown",
      "metadata": {
        "id": "okfwADC3H3Py",
        "nbpages": {
          "level": 3,
          "link": "[1.2.2.1 Variables](https://jckantor.github.io/CBE30338/01.02-Python-Basics.html#1.2.2.1-Variables)",
          "section": "1.2.2.1 Variables"
        }
      },
      "source": [
        "### Variables"
      ]
    },
    {
      "cell_type": "code",
      "execution_count": null,
      "metadata": {
        "id": "BVP4syI6H3Py",
        "nbpages": {
          "level": 3,
          "link": "[1.2.2.1 Variables](https://jckantor.github.io/CBE30338/01.02-Python-Basics.html#1.2.2.1-Variables)",
          "section": "1.2.2.1 Variables"
        },
        "outputId": "d75fab9b-26b0-4ce1-d047-6e085e10c36f"
      },
      "outputs": [],
      "source": [
        "# Une variable stocke une donnée et lui donne un nom\n",
        "answer = 42\n",
        "\n",
        "# answer contient un entier car nous lui avons assigné un entier !\n",
        "\n",
        "is_it_tuesday = True\n",
        "is_it_wednesday = False\n",
        "\n",
        "# Ces deux variables sont des 'booléens', c'est-à-dire des valeurs vraies/fausses\n",
        "\n",
        "pi_approx = 3.1415\n",
        "\n",
        "# Ceci sera un nombre à virgule flottante, contenant des chiffres après la décimale\n",
        "\n",
        "my_name = \"Jacob\"\n",
        "# Ceci est une chaîne de caractères (string), le nom provenant d'une suite de caractères\n",
        "\n",
        "# p.s. : Nous pouvons afficher tout cela avec la fonction print. Par exemple :\n",
        "print(answer)\n",
        "print(pi_approx)"
      ]
    },
    {
      "cell_type": "markdown",
      "metadata": {
        "id": "UegIQ_CtH3Pz",
        "nbpages": {
          "level": 3,
          "link": "[1.2.2.2 More Complicated Data Types](https://jckantor.github.io/CBE30338/01.02-Python-Basics.html#1.2.2.2-More-Complicated-Data-Types)",
          "section": "1.2.2.2 More Complicated Data Types"
        }
      },
      "source": [
        "### Des types de données plus complexes"
      ]
    },
    {
      "cell_type": "code",
      "execution_count": null,
      "metadata": {
        "id": "oTiQ-uERH3P0",
        "nbpages": {
          "level": 3,
          "link": "[1.2.2.2 More Complicated Data Types](https://jckantor.github.io/CBE30338/01.02-Python-Basics.html#1.2.2.2-More-Complicated-Data-Types)",
          "section": "1.2.2.2 More Complicated Data Types"
        },
        "outputId": "d64756ba-6d84-4937-96c9-0048599193a6",
        "scrolled": true
      },
      "outputs": [],
      "source": [
        "# Et si nous voulons stocker plusieurs entiers ? Nous avons besoin d'une liste !\n",
        "prices = [10, 20, 30, 40, 50]\n",
        "\n",
        "# C'est une façon de définir une liste directement.\n",
        "# Nous pouvons aussi créer une liste vide et lui ajouter des éléments.\n",
        "colors = []\n",
        "\n",
        "colors.append(\"Green\")\n",
        "colors.append(\"Blue\")\n",
        "colors.append(\"Red\")\n",
        "\n",
        "print(colors)\n",
        "\n",
        "# Nous pouvons également ajouter des données de types différents à une liste\n",
        "prices.append(\"Sixty\")\n",
        "\n",
        "# Pour vous exercer, recherchez les listes en Python et trouvez comment insérer un élément au milieu d'une liste !\n",
        "\n",
        "print(prices)\n",
        "# Nous pouvons aussi accéder à un élément spécifique d'une liste :\n",
        "\n",
        "print(colors[0])\n",
        "print(colors[2])\n",
        "\n",
        "# Remarquez ici que le premier élément de la liste est à l'index 0, et non 1 !\n",
        "# Les langages comme MATLAB utilisent une indexation qui débute à 1, soyez attentif !\n",
        "\n",
        "# En plus des listes, il existe les tuples\n",
        "# Les tuples se comportent de manière très similaire aux listes, sauf que vous ne pouvez pas les modifier\n",
        "# après les avoir créés\n",
        "\n",
        "# Un tuple vide n'est pas très utile :\n",
        "empty_tuple = ()\n",
        "\n",
        "# Un tuple avec une seule valeur ne l'est pas beaucoup plus :\n",
        "one_tuple = (\"first\",)\n",
        "\n",
        "# Mais les tuples avec plusieurs valeurs sont utiles :\n",
        "rosa_parks_info = (\"Rosa\", \"Parks\", 1913, \"February\", 4)\n",
        "\n",
        "# Vous pouvez accéder aux tuples comme aux listes\n",
        "print(rosa_parks_info[0] + \" \" + rosa_parks_info[1])\n",
        "\n",
        "# Vous ne pouvez pas modifier les tuples existants, mais vous pouvez créer de nouveaux tuples qui étendent\n",
        "# les informations.\n",
        "# Je m'attends à ce que les tuples soient moins utilisés que les listes. Nous nous arrêterons donc là."
      ]
    },
    {
      "cell_type": "markdown",
      "metadata": {
        "id": "fOKUsxRPH3P1",
        "nbpages": {
          "level": 3,
          "link": "[1.2.2.3 Using Variables](https://jckantor.github.io/CBE30338/01.02-Python-Basics.html#1.2.2.3-Using-Variables)",
          "section": "1.2.2.3 Using Variables"
        }
      },
      "source": [
        "### Utilisation des variables"
      ]
    },
    {
      "cell_type": "code",
      "execution_count": null,
      "metadata": {
        "id": "0Qagdo0kH3P1",
        "nbpages": {
          "level": 3,
          "link": "[1.2.2.3 Using Variables](https://jckantor.github.io/CBE30338/01.02-Python-Basics.html#1.2.2.3-Using-Variables)",
          "section": "1.2.2.3 Using Variables"
        },
        "outputId": "6f3aabe7-1304-4a84-b6fa-fad1f1e2c6ac",
        "scrolled": true
      },
      "outputs": [],
      "source": [
        "float1 = 5.75\n",
        "float2 = 2.25\n",
        "# L'addition, la soustraction, la multiplication et la division fonctionnent comme prévu\n",
        "\n",
        "print(float1 + float2)\n",
        "print(float1 - float2)\n",
        "print(float1 * float2)\n",
        "print(float1 / float2)\n",
        "\n",
        "# Et là, un petit truc en plus : l'opérateur modulo (%)\n",
        "# Il donne le reste d'une division entière\n",
        "print(5 % 2)\n"
      ]
    },
    {
      "cell_type": "markdown",
      "metadata": {
        "id": "_7eva4IVH3P1",
        "nbpages": {
          "level": 3,
          "link": "[1.2.2.4 Importing in Python: Math and plotting](https://jckantor.github.io/CBE30338/01.02-Python-Basics.html#1.2.2.4-Importing-in-Python:-Math-and-plotting)",
          "section": "1.2.2.4 Importing in Python: Math and plotting"
        }
      },
      "source": [
        "### Les packages : Math et MatPlotLib"
      ]
    },
    {
      "cell_type": "code",
      "execution_count": null,
      "metadata": {
        "id": "84fuzHIwH3P1",
        "nbpages": {
          "level": 3,
          "link": "[1.2.2.4 Importing in Python: Math and plotting](https://jckantor.github.io/CBE30338/01.02-Python-Basics.html#1.2.2.4-Importing-in-Python:-Math-and-plotting)",
          "section": "1.2.2.4 Importing in Python: Math and plotting"
        }
      },
      "outputs": [],
      "source": [
        "# Presque toutes les fonctions mathématiques standard d'une calculatrice ont un équivalent préexistant en Python.\n",
        "# Cependant, elles proviennent du package 'math' de Python. Ajoutons ce package !\n",
        "import math\n",
        "print(math.log(float1))\n",
        "print(math.exp(float2))\n",
        "print(math.pow(2,5))\n",
        "# Il existe une façon plus rapide d'écrire les exposants si vous voulez :\n",
        "print(2.0**5.0)\n",
        "\n",
        "# Comme dans MATLAB, vous pouvez appliquer les opérations mathématiques à des listes entières\n",
        "list3 = [1, 2, 3, 4, 5]\n",
        "print(2 * list3)"
      ]
    },
    {
      "cell_type": "code",
      "execution_count": null,
      "metadata": {
        "id": "mSgQj1AiH3P1",
        "nbpages": {
          "level": 3,
          "link": "[1.2.2.4 Importing in Python: Math and plotting](https://jckantor.github.io/CBE30338/01.02-Python-Basics.html#1.2.2.4-Importing-in-Python:-Math-and-plotting)",
          "section": "1.2.2.4 Importing in Python: Math and plotting"
        },
        "outputId": "77372ad0-06df-4944-c825-cde538000a43"
      },
      "outputs": [],
      "source": [
        "# Nous pouvons tracer facilement en Python comme dans Matlab, il suffit d'importer le package approprié !\n",
        "%matplotlib inline\n",
        "import matplotlib.pyplot as plt\n",
        "\n",
        "x_vals = [-2, -1, 0, 1, 2]\n",
        "y_vals = [-4, -2, 0, 2, 4]\n",
        "plt.plot(x_vals, y_vals)"
      ]
    },
    {
      "cell_type": "markdown",
      "metadata": {
        "id": "FWeLkvVFH3P1",
        "nbpages": {
          "level": 3,
          "link": "[1.2.2.5 Loops in Python](https://jckantor.github.io/CBE30338/01.02-Python-Basics.html#1.2.2.5-Loops-in-Python)",
          "section": "1.2.2.5 Loops in Python"
        }
      },
      "source": [
        "### Les boucles en Python"
      ]
    },
    {
      "cell_type": "code",
      "execution_count": null,
      "metadata": {
        "id": "u5yk5DizH3P1",
        "nbpages": {
          "level": 3,
          "link": "[1.2.2.5 Loops in Python](https://jckantor.github.io/CBE30338/01.02-Python-Basics.html#1.2.2.5-Loops-in-Python)",
          "section": "1.2.2.5 Loops in Python"
        },
        "outputId": "68a1e950-f3d0-4bae-bc54-5260d536396a"
      },
      "outputs": [],
      "source": [
        "# Répéter le code jusqu'à ce qu'une condition mette fin à la boucle\n",
        "\n",
        "# Essayons d'afficher une liste\n",
        "fib = [1, 1, 2, 3, 5, 8]\n",
        "\n",
        "# Les boucles while sont le type de base\n",
        "i = 0\n",
        "while(i < len(fib)):\n",
        "    print(fib[i])\n",
        "    i = i + 1\n",
        "\n",
        "# Dans MATLAB, pour faire la même chose, la condition serait : counter < (length(fib) + 1)\n",
        "# Ceci parce que MATLAB commence l'indexation à 1, et Python commence à 0.\n",
        "\n",
        "# Le type de boucle ci-dessus est si courant que la boucle 'for' est un moyen de l'écrire plus rapidement.\n",
        "\n",
        "print(\"Essayons encore une fois\")\n",
        "# Ceci est plus similaire aux boucles for dans MATLAB\n",
        "for i in range(0, len(fib)) :\n",
        "    print(fib[i])\n",
        "\n",
        "print(\"Encore une fois:\")\n",
        "# Ou vous pouvez le faire de manière plus élégante\n",
        "for e in fib:\n",
        "    print(e)"
      ]
    },
    {
      "cell_type": "markdown",
      "metadata": {
        "id": "mWx-cc_XH3P2",
        "nbpages": {
          "level": 2,
          "link": "[1.2.3 Additional Resources](https://jckantor.github.io/CBE30338/01.02-Python-Basics.html#1.2.3-Additional-Resources)",
          "section": "1.2.3 Additional Resources"
        }
      },
      "source": [
        "## Ressources supplémentaires\n",
        "* Si vous vous sentez VRAIMENT perdu : [France IOI](https://www.france-ioi.org/algo/chapters.php)\n",
        "\n",
        "* Si vous voulez un bon site de référence : [Référence officielle de Python](https://docs.python.org/3.13/reference)\n",
        "\n",
        "* Si vous voulez en savoir plus sur Python et la programmation : [W3Schools](https://www.w3schools.com/python/)\n"
      ]
    }
  ],
  "metadata": {
    "anaconda-cloud": {},
    "colab": {
      "provenance": []
    },
    "kernelspec": {
      "display_name": "monnotebook (3.13.2)",
      "language": "python",
      "name": "python3"
    },
    "language_info": {
      "codemirror_mode": {
        "name": "ipython",
        "version": 3
      },
      "file_extension": ".py",
      "mimetype": "text/x-python",
      "name": "python",
      "nbconvert_exporter": "python",
      "pygments_lexer": "ipython3",
      "version": "3.13.2"
    }
  },
  "nbformat": 4,
  "nbformat_minor": 0
}
