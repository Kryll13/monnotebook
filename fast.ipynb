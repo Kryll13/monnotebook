{
 "cells": [
  {
   "cell_type": "code",
   "execution_count": null,
   "id": "2783d130",
   "metadata": {},
   "outputs": [],
   "source": [
    "import math\n",
    "import matplotlib.pyplot as plt\n",
    "\n",
    "def f1(x):\n",
    "    return math.sqrt(x)\n",
    "    \n",
    "def f2(x):\n",
    "    return math.tan(x)\n",
    "\n",
    "tabx = [n * 0.012 for n in range(1000)]\n",
    "taby_sqrt = [f1(x) for x in tabx]\n",
    "taby_tan = [f2(x) for x in tabx]\n",
    "\n",
    "# filtrer les résultats de taby_tan pour éviter les valeurs extrêmes\n",
    "# on choisit un seuil de 4 qui est tout juste sqrt(10)\n",
    "taby_tan = [y if abs(y) < 4 else None for y in taby_tan]\n",
    "\n",
    "print(len(tabx))\n",
    "plt.plot(tabx, taby_sqrt)\n",
    "plt.plot(tabx, taby_tan)"
   ]
  }
 ],
 "metadata": {
  "kernelspec": {
   "display_name": "monnotebook (3.13.2)",
   "language": "python",
   "name": "python3"
  },
  "language_info": {
   "codemirror_mode": {
    "name": "ipython",
    "version": 3
   },
   "file_extension": ".py",
   "mimetype": "text/x-python",
   "name": "python",
   "nbconvert_exporter": "python",
   "pygments_lexer": "ipython3",
   "version": "3.13.2"
  }
 },
 "nbformat": 4,
 "nbformat_minor": 5
}
